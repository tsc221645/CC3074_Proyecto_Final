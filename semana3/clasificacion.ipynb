{
 "cells": [
  {
   "cell_type": "code",
   "execution_count": null,
   "id": "b0ca1fa3",
   "metadata": {},
   "outputs": [],
   "source": [
    "import pandas as pd\n",
    "from geopy.distance import geodesic\n",
    "\n",
    "# Cargar ubicaciones\n",
    "geo = pd.read_csv(\"../data_clean/olist_geolocation_dataset_clean.csv\")\n",
    "customers = pd.read_csv(\"../data_clean/olist_customers_dataset_clean.csv\")\n",
    "sellers = pd.read_csv(\"../data_clean/olist_sellers_dataset_clean.csv\")\n",
    "orders = pd.read_csv(\"../data_clean/olist_orders_dataset_clean.csv\")\n",
    "\n",
    "# Obtener coordenadas representativas por ZIP code\n",
    "geo = geo.groupby('geolocation_zip_code_prefix')[['geolocation_lat', 'geolocation_lng']].mean().reset_index()\n",
    "\n",
    "# Unir ubicaciones al dataset\n",
    "customers = customers.merge(geo, left_on='customer_zip_code_prefix', right_on='geolocation_zip_code_prefix', how='left')\n",
    "sellers = sellers.merge(geo, left_on='seller_zip_code_prefix', right_on='geolocation_zip_code_prefix', how='left')\n",
    "\n",
    "# Renombrar columnas\n",
    "customers.rename(columns={'geolocation_lat': 'customer_lat', 'geolocation_lng': 'customer_lng'}, inplace=True)\n",
    "sellers.rename(columns={'geolocation_lat': 'seller_lat', 'geolocation_lng': 'seller_lng'}, inplace=True)\n",
    "\n",
    "# Unir clientes y vendedores a las órdenes\n",
    "df = df.merge(orders[['order_id', 'customer_id', 'seller_id']], on='order_id')\\\n",
    "       .merge(customers[['customer_id', 'customer_lat', 'customer_lng']], on='customer_id')\\\n",
    "       .merge(sellers[['seller_id', 'seller_lat', 'seller_lng']], on='seller_id')\n",
    "\n",
    "# Calcular distancia geográfica\n",
    "df['distancia_km'] = df.apply(\n",
    "    lambda row: geodesic(\n",
    "        (row['customer_lat'], row['customer_lng']),\n",
    "        (row['seller_lat'], row['seller_lng'])\n",
    "    ).km,\n",
    "    axis=1\n",
    ")\n"
   ]
  }
 ],
 "metadata": {
  "kernelspec": {
   "display_name": ".venv",
   "language": "python",
   "name": "python3"
  },
  "language_info": {
   "name": "python",
   "version": "3.13.2"
  }
 },
 "nbformat": 4,
 "nbformat_minor": 5
}
